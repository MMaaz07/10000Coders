{
 "cells": [
  {
   "cell_type": "markdown",
   "id": "00d9055a",
   "metadata": {},
   "source": [
    "## Easy "
   ]
  },
  {
   "cell_type": "code",
   "execution_count": null,
   "id": "d9a48e87",
   "metadata": {},
   "outputs": [
    {
     "name": "stdout",
     "output_type": "stream",
     "text": [
      "equal\n"
     ]
    }
   ],
   "source": [
    "# Write a program to check if a given number is positive,\n",
    "# negative, or zero.\n",
    "num=int(input(\"Enter a Number: \"))\n",
    "print(\"Positive\" if num>0 else \"Negative\" if num<0 else \"Equal\")"
   ]
  },
  {
   "cell_type": "code",
   "execution_count": 5,
   "metadata": {},
   "outputs": [
    {
     "name": "stdout",
     "output_type": "stream",
     "text": [
      "Odd\n"
     ]
    }
   ],
   "source": [
    "# Determine if a number is odd or even.\n",
    "num=int(input(\"Enter a  Number:\"))\n",
    "print(\"Odd\" if num & 1!=0 else \"Even\")"
   ]
  },
  {
   "cell_type": "code",
   "execution_count": 8,
   "metadata": {},
   "outputs": [
    {
     "data": {
      "text/plain": [
       "True"
      ]
     },
     "execution_count": 8,
     "metadata": {},
     "output_type": "execute_result"
    }
   ],
   "source": [
    "# Check if a person is eligible to vote (age >= 18).\n",
    "def checkAge(num):\n",
    "     return True if num>=18 else False\n",
    "num=int(input(\"Enter Your Age: \"))\n",
    "checkAge(num)\n"
   ]
  },
  {
   "cell_type": "code",
   "execution_count": 9,
   "metadata": {},
   "outputs": [
    {
     "name": "stdout",
     "output_type": "stream",
     "text": [
      "Num 2 is Greater\n"
     ]
    }
   ],
   "source": [
    "# Write a program to find the greatest of two numbers.\n",
    "num1=int(input())\n",
    "num2=int(input())\n",
    "if num1>num2:\n",
    "    print(\"Num 1 is Greater\")\n",
    "else:\n",
    "    print(\"Num 2 is Greater\")"
   ]
  },
  {
   "cell_type": "code",
   "execution_count": null,
   "id": "c65278da",
   "metadata": {},
   "outputs": [
    {
     "name": "stdout",
     "output_type": "stream",
     "text": [
      "Fail\n"
     ]
    }
   ],
   "source": [
    "# Print \"Pass\" if a student scores more than 40 marks;\n",
    "# otherwise, print \"Fail.\"\n",
    "marks=int(input(\"Enter marks: \"))\n",
    "print(\"Pass\" if marks>40 else \"Fail\")"
   ]
  },
  {
   "cell_type": "code",
   "execution_count": 14,
   "metadata": {},
   "outputs": [
    {
     "name": "stdout",
     "output_type": "stream",
     "text": [
      "Enter proper number btw 1-7\n"
     ]
    }
   ],
   "source": [
    "# Write a program to display the day of the week based on a\n",
    "# number input (1 for Monday, 2 for Tuesday, etc.).\n",
    "day_num=int(input(\"Enter Day Number: \"))\n",
    "match day_num:\n",
    "    case 1:\n",
    "        print(\"Monday\")\n",
    "    case 2:\n",
    "        print(\"Tuesday\")\n",
    "    case 3:\n",
    "        print(\"Wednesday\")\n",
    "    case 4:\n",
    "        print(\"Thrusday\")\n",
    "    case 5:\n",
    "        print(\"Friday\")\n",
    "    case 6:\n",
    "        print(\"Saturday\")\n",
    "    case 7:\n",
    "        print(\"Sunday\")\n",
    "    case _:\n",
    "        print(\"Enter proper number btw 1-7\")"
   ]
  },
  {
   "cell_type": "code",
   "execution_count": 22,
   "id": "c6686604",
   "metadata": {},
   "outputs": [
    {
     "name": "stdout",
     "output_type": "stream",
     "text": [
      "Enter num2 as non zero\n"
     ]
    }
   ],
   "source": [
    "# Implement a simple calculator to perform addition,\n",
    "# subtraction, multiplication, and division\n",
    "\n",
    "def simp_calc(op,num1,num2):\n",
    "    op=op.lower()\n",
    "    if op in ['+','add']:\n",
    "        print(num1+num2)\n",
    "    elif op in ['-','sub']:\n",
    "        print(num1-num2)\n",
    "    elif op in ['*','mul']:\n",
    "        print(num1*num2)\n",
    "    elif op in ['/','div']:\n",
    "        if num2!=0:\n",
    "            print(num1/num2)\n",
    "        else:\n",
    "            print(\"Enter num2 as non zero\")\n",
    "    else:\n",
    "        print(\"Please Enter proper Operator\")\n",
    "\n",
    "num1=int(input(\"Enter First Number: \"))\n",
    "num2=int(input(\"Enter Second Number: \"))\n",
    "op=input(\"Enter Operator: \")\n",
    "simp_calc(op,num1,num2)"
   ]
  },
  {
   "cell_type": "code",
   "execution_count": 2,
   "id": "3cd7fb3e",
   "metadata": {},
   "outputs": [
    {
     "name": "stdout",
     "output_type": "stream",
     "text": [
      "Operator: + Numbers: [6.0, 20.0, 60.0, 80.0, 2.0, 0.1, 2.3, 50.1] Result 220.5\n"
     ]
    }
   ],
   "source": [
    "# Implement a simple calculator to perform addition,\n",
    "# subtraction, multiplication, and division\n",
    "# Dynamic Input Calculator\n",
    "\n",
    "def simple_calc(op, num1, *num2):\n",
    "    result=num1\n",
    "    op=op.lower()\n",
    "    if op in ['+','add']:\n",
    "        for num in num2:\n",
    "            result+=num\n",
    "    elif op in ['-','sub']:\n",
    "        for num in num2:\n",
    "            result-=num\n",
    "    elif op in ['*','mul']:\n",
    "        for num in num2:\n",
    "            result*=num\n",
    "    elif op in ['/','div']:\n",
    "        for num in num2:\n",
    "            if num!=0:\n",
    "                result/=num\n",
    "            else:\n",
    "                return \"division error by zero\"\n",
    "    else:\n",
    "        return \"Invalid operator\"\n",
    "    return result\n",
    "\n",
    "op=input(\"Enter Operator(+,-,/,*): \")\n",
    "numbers=[]\n",
    "while True:\n",
    "    val=input(\"Enter Number or 'stop' or'..' to finish: \")\n",
    "    if val.lower() in ['stop','..']:\n",
    "        break\n",
    "    numbers.append(float(val))    \n",
    "\n",
    "if len(numbers)==0:\n",
    "    print(\"No Numbers Entered\")\n",
    "else:\n",
    "    res=simple_calc(op,numbers[0],*numbers[1:])\n",
    "    print(f'Operator: {op} Numbers: {numbers[:]} Result {res}')"
   ]
  },
  {
   "cell_type": "code",
   "execution_count": null,
   "id": "053d84fd",
   "metadata": {},
   "outputs": [],
   "source": [
    "# Write a program to display the name of a month based on\n",
    "# the month number (1 for January, 2 for February, etc.).\n",
    "\n",
    "#Same as Weekdays"
   ]
  },
  {
   "cell_type": "markdown",
   "id": "fdca9a61",
   "metadata": {},
   "source": [
    "## Medium "
   ]
  },
  {
   "cell_type": "code",
   "execution_count": 23,
   "id": "e7bd043b",
   "metadata": {},
   "outputs": [
    {
     "name": "stdout",
     "output_type": "stream",
     "text": [
      "C is Greater\n"
     ]
    }
   ],
   "source": [
    "# Write a program to find the greatest of three numbers.\n",
    "a=int(input(\"Enter First Number: \"))\n",
    "b=int(input(\"Enter Second Number: \"))\n",
    "c=int(input(\"Enter Third Number: \"))\n",
    "if a>b and b>c:\n",
    "    print(\"A is Greater\")\n",
    "elif b>a and b>c:\n",
    "    print(\"B is greater\")\n",
    "else:\n",
    "    print(\"C is Greater\")"
   ]
  },
  {
   "cell_type": "code",
   "execution_count": 55,
   "id": "e30add92",
   "metadata": {},
   "outputs": [
    {
     "name": "stdout",
     "output_type": "stream",
     "text": [
      "Not a leap year\n"
     ]
    }
   ],
   "source": [
    "#  Check if a year is a leap year\n",
    "year=input(\"Enter a Year: \")\n",
    "if len(year)==4:\n",
    "    year=int(year)\n",
    "    if year%400==0:\n",
    "        print(\"Yes it is a leap year\")\n",
    "    elif year%100==0:\n",
    "        print(\"No, it is not a leap year\")\n",
    "    elif year % 4 == 0:\n",
    "        print(\"Yes, it is a Leap Year\")\n",
    "    else:\n",
    "        print(\"Not a leap year\")\n",
    "else:\n",
    "    print(\"Enter year as YYYY\")"
   ]
  },
  {
   "cell_type": "code",
   "execution_count": 33,
   "id": "42d3d54d",
   "metadata": {},
   "outputs": [
    {
     "name": "stdout",
     "output_type": "stream",
     "text": [
      "Consonant\n"
     ]
    }
   ],
   "source": [
    "# Write a program to classify a character entered by the user\n",
    "# as a vowel, consonant, or neither.\n",
    "ch=input(\"Enter a single character: \")\n",
    "ch=ch.lower()\n",
    "if len(ch)!=1:\n",
    "    print(\"Only single characters inputs allowed\")\n",
    "elif ch in ['a','e','i','o','u']:\n",
    "    print(\"Vowel\")\n",
    "elif ch>='a' and ch<='z':\n",
    "    print(\"Consonant\")\n",
    "else:\n",
    "    print(\"Neither\")"
   ]
  },
  {
   "cell_type": "code",
   "execution_count": 41,
   "id": "5702fa8d",
   "metadata": {},
   "outputs": [
    {
     "name": "stdout",
     "output_type": "stream",
     "text": [
      "Marks out of range\n"
     ]
    }
   ],
   "source": [
    "# Calculate the grade of a student based on the marks they\n",
    "# score:\n",
    "# 1. 90-100: Grade A\n",
    "# 2. 80-89: Grade B\n",
    "# 3. 70-79: Grade C\n",
    "# 4. <70: Fail.\n",
    "\n",
    "marks=int(input(\"Enter Marks: \"))\n",
    "if 90<=marks<=100:\n",
    "    print(\"A Grade\")\n",
    "elif 80<=marks<=89:\n",
    "    print(\"B Grade\")\n",
    "elif 70<=marks<=79:\n",
    "    print(\"C Grade\")\n",
    "elif marks<70:\n",
    "    print(\"Fail\")\n",
    "else:\n",
    "    print(\"Marks out of range\")\n"
   ]
  },
  {
   "cell_type": "code",
   "execution_count": 46,
   "id": "542c36ff",
   "metadata": {},
   "outputs": [
    {
     "name": "stdout",
     "output_type": "stream",
     "text": [
      "All Sides of the Triangle are Valid\n"
     ]
    }
   ],
   "source": [
    "# Write a program to check if three sides length form a valid\n",
    "# triangle.\n",
    "\n",
    "a=float(input(\"Enter a:\"))\n",
    "b=float(input(\"Enter b:\"))\n",
    "c=float(input(\"Enter c:\"))\n",
    "if (a+b)>c and (b+c)>a and (a+c)>b:\n",
    "    print(\"All Sides of the Triangle are Valid\")\n",
    "else:\n",
    "    print(\"Sides are not valid\")"
   ]
  },
  {
   "cell_type": "markdown",
   "id": "c4c40359",
   "metadata": {},
   "source": [
    "# Loops Coming Soon"
   ]
  }
 ],
 "metadata": {
  "kernelspec": {
   "display_name": "Python 3",
   "language": "python",
   "name": "python3"
  },
  "language_info": {
   "codemirror_mode": {
    "name": "ipython",
    "version": 3
   },
   "file_extension": ".py",
   "mimetype": "text/x-python",
   "name": "python",
   "nbconvert_exporter": "python",
   "pygments_lexer": "ipython3",
   "version": "3.12.0"
  }
 },
 "nbformat": 4,
 "nbformat_minor": 5
}
