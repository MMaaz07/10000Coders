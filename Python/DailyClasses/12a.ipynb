{
 "cells": [
  {
   "cell_type": "markdown",
   "id": "7a2c2a23",
   "metadata": {},
   "source": [
    "#### Keyword Arbitrary Arguments"
   ]
  },
  {
   "cell_type": "code",
   "execution_count": 4,
   "id": "03441b98",
   "metadata": {},
   "outputs": [
    {
     "name": "stdout",
     "output_type": "stream",
     "text": [
      "Connecting to db\n",
      "{'db_loc': 'localhost', 'db_port': '3306', 'db_user': '123456', 'db_pass': '35923', 'db_pool': 200}\n",
      "<class 'dict'>\n"
     ]
    }
   ],
   "source": [
    "#provides a greater context than the args(arbitrary) using key-value pairs\n",
    "def connect_to_db(**kwargs):\n",
    "    print(\"Connecting to db\")\n",
    "    print(kwargs)\n",
    "    print(type(kwargs))\n",
    "\n",
    "connect_to_db(db_loc=\"localhost\", db_port=\"3306\", db_user=\"123456\", db_pass=\"35923\", db_pool=200)\n"
   ]
  },
  {
   "cell_type": "code",
   "execution_count": 7,
   "id": "bd0e78b6",
   "metadata": {},
   "outputs": [
    {
     "name": "stdout",
     "output_type": "stream",
     "text": [
      "Connecting to db\n",
      "{'name': 'maaz'}\n"
     ]
    }
   ],
   "source": [
    "\n",
    "def connect_to_db(*args,**args2):\n",
    "    print(\"Connecting to db\")\n",
    "    print(args2)\n",
    "\n",
    "connect_to_db(\"localhost\"\"3306\", \"123456\", \"35923\",200,name=\"maaz\")"
   ]
  }
 ],
 "metadata": {
  "kernelspec": {
   "display_name": "Python 3",
   "language": "python",
   "name": "python3"
  },
  "language_info": {
   "codemirror_mode": {
    "name": "ipython",
    "version": 3
   },
   "file_extension": ".py",
   "mimetype": "text/x-python",
   "name": "python",
   "nbconvert_exporter": "python",
   "pygments_lexer": "ipython3",
   "version": "3.12.0"
  }
 },
 "nbformat": 4,
 "nbformat_minor": 5
}
