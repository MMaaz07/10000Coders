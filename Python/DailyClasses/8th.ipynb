{
 "cells": [
  {
   "cell_type": "markdown",
   "id": "e5eba53a",
   "metadata": {},
   "source": [
    "## Functions in Python"
   ]
  },
  {
   "cell_type": "code",
   "execution_count": 9,
   "id": "34517ddc",
   "metadata": {},
   "outputs": [
    {
     "name": "stdout",
     "output_type": "stream",
     "text": [
      "Sum\n",
      "30\n",
      "Sub\n",
      "-10\n",
      "mul\n",
      "200\n",
      "div\n",
      "0.5\n"
     ]
    }
   ],
   "source": [
    "def oper(num1,num2):\n",
    "    print(\"Sum\")\n",
    "    print(num1+num2)\n",
    "    print(\"Sub\")\n",
    "    print(num1-num2)\n",
    "    print(\"mul\")\n",
    "    print(num1*num2)\n",
    "    print(\"div\")\n",
    "    if num2==0:\n",
    "        print(\"cannot divide by zero\")\n",
    "    else:\n",
    "        print(num1/num2)\n",
    "\n",
    "n=int(input())\n",
    "m=int(input())\n",
    "oper(n,m)"
   ]
  },
  {
   "cell_type": "code",
   "execution_count": 14,
   "metadata": {},
   "outputs": [
    {
     "name": "stdout",
     "output_type": "stream",
     "text": [
      "10  *  1  =  10\n",
      "10  *  2  =  20\n",
      "10  *  3  =  30\n",
      "10  *  4  =  40\n",
      "10  *  5  =  50\n",
      "10  *  6  =  60\n",
      "10  *  7  =  70\n",
      "10  *  8  =  80\n",
      "10  *  9  =  90\n",
      "10  *  10  =  100\n",
      "10  *  11  =  110\n",
      "10  *  12  =  120\n",
      "10  *  13  =  130\n",
      "10  *  14  =  140\n",
      "10  *  15  =  150\n",
      "10  *  16  =  160\n",
      "10  *  17  =  170\n",
      "10  *  18  =  180\n",
      "10  *  19  =  190\n",
      "10  *  20  =  200\n",
      "10  *  21  =  210\n",
      "10  *  22  =  220\n",
      "10  *  23  =  230\n",
      "10  *  24  =  240\n",
      "10  *  25  =  250\n",
      "10  *  26  =  260\n",
      "10  *  27  =  270\n",
      "10  *  28  =  280\n",
      "10  *  29  =  290\n",
      "10  *  30  =  300\n",
      "10  *  31  =  310\n",
      "10  *  32  =  320\n",
      "10  *  33  =  330\n",
      "10  *  34  =  340\n",
      "10  *  35  =  350\n",
      "10  *  36  =  360\n",
      "10  *  37  =  370\n",
      "10  *  38  =  380\n",
      "10  *  39  =  390\n",
      "10  *  40  =  400\n",
      "10  *  41  =  410\n",
      "10  *  42  =  420\n",
      "10  *  43  =  430\n",
      "10  *  44  =  440\n",
      "10  *  45  =  450\n",
      "10  *  46  =  460\n",
      "10  *  47  =  470\n",
      "10  *  48  =  480\n",
      "10  *  49  =  490\n",
      "10  *  50  =  500\n",
      "10  *  51  =  510\n",
      "10  *  52  =  520\n",
      "10  *  53  =  530\n",
      "10  *  54  =  540\n",
      "10  *  55  =  550\n",
      "10  *  56  =  560\n",
      "10  *  57  =  570\n",
      "10  *  58  =  580\n",
      "10  *  59  =  590\n",
      "10  *  60  =  600\n",
      "10  *  61  =  610\n",
      "10  *  62  =  620\n",
      "10  *  63  =  630\n",
      "10  *  64  =  640\n",
      "10  *  65  =  650\n",
      "10  *  66  =  660\n",
      "10  *  67  =  670\n",
      "10  *  68  =  680\n",
      "10  *  69  =  690\n",
      "10  *  70  =  700\n",
      "10  *  71  =  710\n",
      "10  *  72  =  720\n",
      "10  *  73  =  730\n",
      "10  *  74  =  740\n",
      "10  *  75  =  750\n",
      "10  *  76  =  760\n",
      "10  *  77  =  770\n",
      "10  *  78  =  780\n",
      "10  *  79  =  790\n",
      "10  *  80  =  800\n"
     ]
    }
   ],
   "source": [
    "def tables(num1,num2):\n",
    "    for i in range(1,num2+1):\n",
    "        print(num1 ,' * ',i,\" = \",num1*i)\n",
    "\n",
    "n=int(input())\n",
    "m=int(input())\n",
    "tables(n,m)"
   ]
  },
  {
   "cell_type": "markdown",
   "id": "60de0eba",
   "metadata": {},
   "source": [
    "### Types of arguments\n",
    "- positional\n",
    "- keyword"
   ]
  },
  {
   "cell_type": "markdown",
   "id": "7b5cc21f",
   "metadata": {},
   "source": [
    "Always use keyword arguments in real time codes. positinal arguments assignment can sometime arise ambigiuty"
   ]
  },
  {
   "cell_type": "code",
   "execution_count": null,
   "metadata": {},
   "outputs": [],
   "source": []
  }
 ],
 "metadata": {
  "kernelspec": {
   "display_name": "Python 3",
   "language": "python",
   "name": "python3"
  },
  "language_info": {
   "codemirror_mode": {
    "name": "ipython",
    "version": 3
   },
   "file_extension": ".py",
   "mimetype": "text/x-python",
   "name": "python",
   "nbconvert_exporter": "python",
   "pygments_lexer": "ipython3",
   "version": "3.12.0"
  }
 },
 "nbformat": 4,
 "nbformat_minor": 5
}
