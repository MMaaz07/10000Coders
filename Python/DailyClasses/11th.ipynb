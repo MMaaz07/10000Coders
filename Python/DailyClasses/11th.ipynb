{
 "cells": [
  {
   "cell_type": "code",
   "execution_count": null,
   "id": "4dc59fbe",
   "metadata": {},
   "outputs": [
    {
     "ename": "SyntaxError",
     "evalue": "parameter without a default follows parameter with a default (721728033.py, line 2)",
     "output_type": "error",
     "traceback": [
      "  \u001b[36mCell\u001b[39m\u001b[36m \u001b[39m\u001b[32mIn[1]\u001b[39m\u001b[32m, line 2\u001b[39m\n\u001b[31m    \u001b[39m\u001b[31mdef simple_cal(num1=10,num2):\u001b[39m\n                           ^\n\u001b[31mSyntaxError\u001b[39m\u001b[31m:\u001b[39m parameter without a default follows parameter with a default\n"
     ]
    }
   ],
   "source": [
    "#eror: Non default argument following default arguments\n",
    "def simple_cal(num1=10,num2):\n",
    "    print(num1+num2)\n",
    "    print(num1-num2)\n",
    "    print(num1*num2)\n",
    "    print(num1**num2)\n",
    "    if num2!=0:\n",
    "        print(num1/num2)\n",
    "        print(num1//num2)\n",
    "        print(num1%num2)\n",
    "    else:\n",
    "        print(\"Not divisible\")\n",
    "\n",
    "simple_cal(10)"
   ]
  },
  {
   "cell_type": "markdown",
   "id": "f9c0c07e",
   "metadata": {},
   "source": [
    "all the default parameters should be given at start and default at the end, or else it would create ambiguity."
   ]
  },
  {
   "cell_type": "code",
   "execution_count": 2,
   "id": "9b1f121d",
   "metadata": {},
   "outputs": [
    {
     "name": "stdout",
     "output_type": "stream",
     "text": [
      "20\n",
      "0\n",
      "100\n",
      "10000000000\n",
      "1.0\n",
      "1\n",
      "0\n"
     ]
    }
   ],
   "source": [
    "#\n",
    "def simple_cal(num2,num1=10):\n",
    "    print(num1+num2)\n",
    "    print(num1-num2)\n",
    "    print(num1*num2)\n",
    "    print(num1**num2)\n",
    "    if num2!=0:\n",
    "        print(num1/num2)\n",
    "        print(num1//num2)\n",
    "        print(num1%num2)\n",
    "    else:\n",
    "        print(\"Not divisible\")\n",
    "\n",
    "simple_cal(10)"
   ]
  },
  {
   "cell_type": "code",
   "execution_count": 3,
   "id": "41de32f5",
   "metadata": {},
   "outputs": [
    {
     "ename": "TypeError",
     "evalue": "add() missing 2 required positional arguments: 'c' and 'd'",
     "output_type": "error",
     "traceback": [
      "\u001b[31m---------------------------------------------------------------------------\u001b[39m",
      "\u001b[31mTypeError\u001b[39m                                 Traceback (most recent call last)",
      "\u001b[36mCell\u001b[39m\u001b[36m \u001b[39m\u001b[32mIn[3]\u001b[39m\u001b[32m, line 8\u001b[39m\n\u001b[32m      5\u001b[39m \u001b[38;5;28;01mdef\u001b[39;00m\u001b[38;5;250m \u001b[39m\u001b[34madd\u001b[39m(a,b,c,d):\n\u001b[32m      6\u001b[39m     \u001b[38;5;28mprint\u001b[39m(a+b+c+d)\n\u001b[32m----> \u001b[39m\u001b[32m8\u001b[39m \u001b[43madd\u001b[49m\u001b[43m(\u001b[49m\u001b[32;43m2\u001b[39;49m\u001b[43m,\u001b[49m\u001b[32;43m4\u001b[39;49m\u001b[43m)\u001b[49m\n\u001b[32m      9\u001b[39m add(\u001b[32m2\u001b[39m,\u001b[32m3\u001b[39m,\u001b[32m4\u001b[39m)\n\u001b[32m     10\u001b[39m add(\u001b[32m2\u001b[39m,\u001b[32m3\u001b[39m,\u001b[32m4\u001b[39m,\u001b[32m5\u001b[39m)\n",
      "\u001b[31mTypeError\u001b[39m: add() missing 2 required positional arguments: 'c' and 'd'"
     ]
    }
   ],
   "source": [
    "def add(a,b):\n",
    "    print(a+b)\n",
    "def add(a,b,c):\n",
    "    print(a+b+c)\n",
    "def add(a,b,c,d):\n",
    "    print(a+b+c+d)\n",
    "\n",
    "add(2,4)\n",
    "add(2,3,4)\n",
    "add(2,3,4,5)"
   ]
  },
  {
   "cell_type": "markdown",
   "id": "3137bbe9",
   "metadata": {},
   "source": [
    "#### Arbitrary Arguments"
   ]
  },
  {
   "cell_type": "markdown",
   "id": "70cc06b8",
   "metadata": {},
   "source": [
    "Method Overloading is not supported in python but cab be achieved in python using arbitrary aruments or keyword arbitrary arguments"
   ]
  },
  {
   "cell_type": "code",
   "execution_count": null,
   "id": "6b372733",
   "metadata": {},
   "outputs": [
    {
     "name": "stdout",
     "output_type": "stream",
     "text": [
      "2\n",
      "()\n",
      "5\n",
      "(6,)\n",
      "7\n",
      "(8, 9)\n",
      "1\n",
      "(2, 3, 4, 5, 6, 7, 8, 9, 10, 11, 12)\n"
     ]
    }
   ],
   "source": [
    "def add(a,*b): #or *args as the terminology\n",
    "    print(a)\n",
    "    print(b)\n",
    "\n",
    "add(2)\n",
    "add(5,6)\n",
    "add(7,8,9)\n",
    "add(1,2,3,4,5,6,7,8,9,10,11,12)\n"
   ]
  },
  {
   "cell_type": "code",
   "execution_count": 6,
   "id": "d2a0def5",
   "metadata": {},
   "outputs": [
    {
     "name": "stdout",
     "output_type": "stream",
     "text": [
      "15\n"
     ]
    }
   ],
   "source": [
    "def add(a,*b):\n",
    "    print(a+sum(b))\n",
    "add(1,2,3,4,5)"
   ]
  },
  {
   "cell_type": "code",
   "execution_count": null,
   "id": "3302f475",
   "metadata": {},
   "outputs": [],
   "source": []
  }
 ],
 "metadata": {
  "kernelspec": {
   "display_name": "Python 3",
   "language": "python",
   "name": "python3"
  },
  "language_info": {
   "codemirror_mode": {
    "name": "ipython",
    "version": 3
   },
   "file_extension": ".py",
   "mimetype": "text/x-python",
   "name": "python",
   "nbconvert_exporter": "python",
   "pygments_lexer": "ipython3",
   "version": "3.12.0"
  }
 },
 "nbformat": 4,
 "nbformat_minor": 5
}
